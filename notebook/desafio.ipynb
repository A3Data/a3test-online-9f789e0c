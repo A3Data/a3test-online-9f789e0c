{
 "cells": [
  {
   "cell_type": "markdown",
   "id": "238157d0",
   "metadata": {},
   "source": [
    "# Olá, seja muito bem-vindo ao desafio de Engenheiro(a) de dados da [A3Data]\n",
    "\n",
    "<p align=\"center\">\n",
    "  <a href=\"\" rel=\"noopener\">\n",
    " <img src=\"https://cdn-content.talentbrand.com.br/companies/394/header/ec1d053357fc5889b2daf50460552dd67b399a89.png?1606219795\" alt=\"Project logo\"></a>\n",
    "</p>"
   ]
  },
  {
   "cell_type": "markdown",
   "id": "3511ad46",
   "metadata": {},
   "source": [
    "### Cria um mount point no seu Google Drive para acessar os dados do DataLake"
   ]
  },
  {
   "cell_type": "markdown",
   "id": "cbc094de",
   "metadata": {},
   "source": [
    "- Execute e passe o código solicitado"
   ]
  },
  {
   "cell_type": "code",
   "execution_count": 2,
   "id": "48c22fa4",
   "metadata": {},
   "outputs": [],
   "source": [
    "# from google.colab import drive\n",
    "# drive.mount('/content/drive/')"
   ]
  },
  {
   "cell_type": "markdown",
   "id": "40f358e2",
   "metadata": {},
   "source": [
    "### Importação das bibliotecas necessárias para realização do exercício"
   ]
  },
  {
   "cell_type": "code",
   "execution_count": 5,
   "id": "07f0f915",
   "metadata": {},
   "outputs": [],
   "source": [
    "import pandas as pd\n",
    "import json\n",
    "import os\n",
    "import glob\n",
    "from sqlalchemy import create_engine, inspect\n",
    "from pandas import DataFrame"
   ]
  },
  {
   "cell_type": "code",
   "execution_count": 2,
   "id": "3fb06d16",
   "metadata": {},
   "outputs": [],
   "source": [
    "engine = create_engine('sqlite://', echo=False)"
   ]
  }
 ],
 "metadata": {
  "kernelspec": {
   "display_name": "Python 3",
   "language": "python",
   "name": "python3"
  },
  "language_info": {
   "codemirror_mode": {
    "name": "ipython",
    "version": 3
   },
   "file_extension": ".py",
   "mimetype": "text/x-python",
   "name": "python",
   "nbconvert_exporter": "python",
   "pygments_lexer": "ipython3",
   "version": "3.9.1"
  }
 },
 "nbformat": 4,
 "nbformat_minor": 5
}
